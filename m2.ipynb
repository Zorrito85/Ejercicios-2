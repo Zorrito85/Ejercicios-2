{
 "cells": [
  {
   "cell_type": "markdown",
   "id": "0cde9faf",
   "metadata": {},
   "source": [
    "Ejercicio 3"
   ]
  },
  {
   "cell_type": "code",
   "execution_count": 7,
   "id": "d05c9c35",
   "metadata": {},
   "outputs": [
    {
     "name": "stdout",
     "output_type": "stream",
     "text": [
      "ManuelCarrasco\n",
      "ManuelCa\n"
     ]
    }
   ],
   "source": [
    "nombreCompleto= Nombre+ ''+ Apellidos\n",
    "print(nombreCompleto)\n",
    "print(nombreCompleto[0:8])"
   ]
  },
  {
   "cell_type": "markdown",
   "id": "498c69a8",
   "metadata": {},
   "source": [
    "Crea dos variables"
   ]
  },
  {
   "cell_type": "code",
   "execution_count": 5,
   "id": "af00d444",
   "metadata": {},
   "outputs": [
    {
     "name": "stdout",
     "output_type": "stream",
     "text": [
      "ManuelCarrasco\n",
      "ManuelCarrasco.\n",
      "ManuelManuelManuel\n"
     ]
    }
   ],
   "source": [
    "Nombre='Manuel'\n",
    "Apellidos='Carrasco'\n",
    "m=Nombre+ Apellidos\n",
    "n=Nombre+ Apellidos+'.'\n",
    "z=Nombre *3\n",
    "print(m)\n",
    "print(n)\n",
    "print(z)"
   ]
  },
  {
   "cell_type": "markdown",
   "id": "18daf915",
   "metadata": {},
   "source": [
    "Indica un ejemplo de un tipo de daot"
   ]
  },
  {
   "cell_type": "code",
   "execution_count": 3,
   "id": "21ef3e71",
   "metadata": {},
   "outputs": [],
   "source": [
    "entero=(1)\n",
    "flotante=(2.3)\n",
    "string= 'Bocata'\n",
    "booleano= True"
   ]
  }
 ],
 "metadata": {
  "kernelspec": {
   "display_name": "base",
   "language": "python",
   "name": "python3"
  },
  "language_info": {
   "codemirror_mode": {
    "name": "ipython",
    "version": 3
   },
   "file_extension": ".py",
   "mimetype": "text/x-python",
   "name": "python",
   "nbconvert_exporter": "python",
   "pygments_lexer": "ipython3",
   "version": "3.13.5"
  }
 },
 "nbformat": 4,
 "nbformat_minor": 5
}
