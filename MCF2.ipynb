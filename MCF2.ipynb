{
 "cells": [
  {
   "cell_type": "markdown",
   "id": "a55907a1",
   "metadata": {},
   "source": [
    "1.-"
   ]
  },
  {
   "cell_type": "code",
   "execution_count": 6,
   "id": "72f2eff8",
   "metadata": {},
   "outputs": [],
   "source": [
    "nota_1=1\n",
    "nota_2=4\n",
    "nota_3=6\n",
    "nota_4=2\n",
    "nota_5=9\n",
    "media_aritmetica= (nota_1+nota_2+nota_3+nota_4+nota_5)/5\n"
   ]
  },
  {
   "cell_type": "markdown",
   "id": "0b0fbe33",
   "metadata": {},
   "source": [
    "2.-"
   ]
  },
  {
   "cell_type": "code",
   "execution_count": null,
   "id": "ab5b34db",
   "metadata": {},
   "outputs": [],
   "source": [
    "import math\n"
   ]
  },
  {
   "cell_type": "markdown",
   "id": "65725c67",
   "metadata": {},
   "source": [
    "3.-"
   ]
  },
  {
   "cell_type": "code",
   "execution_count": null,
   "id": "1a8c0c28",
   "metadata": {},
   "outputs": [
    {
     "data": {
      "text/plain": [
       "447.12"
      ]
     },
     "execution_count": 8,
     "metadata": {},
     "output_type": "execute_result"
    }
   ],
   "source": [
    "resultado= (365/12)*14.7\n",
    "print(resultado)\n",
    "round(resultado,2)"
   ]
  }
 ],
 "metadata": {
  "kernelspec": {
   "display_name": "base",
   "language": "python",
   "name": "python3"
  },
  "language_info": {
   "codemirror_mode": {
    "name": "ipython",
    "version": 3
   },
   "file_extension": ".py",
   "mimetype": "text/x-python",
   "name": "python",
   "nbconvert_exporter": "python",
   "pygments_lexer": "ipython3",
   "version": "3.13.5"
  }
 },
 "nbformat": 4,
 "nbformat_minor": 5
}
